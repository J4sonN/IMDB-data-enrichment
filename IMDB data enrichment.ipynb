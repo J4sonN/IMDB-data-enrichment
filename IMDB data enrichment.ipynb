{
 "cells": [
  {
   "cell_type": "code",
   "execution_count": 1,
   "id": "6537ec69",
   "metadata": {},
   "outputs": [],
   "source": [
    "import pandas as pd\n",
    "import numpy as np"
   ]
  },
  {
   "cell_type": "code",
   "execution_count": 2,
   "id": "6459e93e",
   "metadata": {},
   "outputs": [],
   "source": [
    "akas_url = ('https://datasets.imdbws.com/title.akas.tsv.gz')\n",
    "basics_url =('https://datasets.imdbws.com/title.basics.tsv.gz')\n",
    "rating_url= ('https://datasets.imdbws.com/title.ratings.tsv.gz')"
   ]
  },
  {
   "cell_type": "code",
   "execution_count": null,
   "id": "8cae7c33",
   "metadata": {},
   "outputs": [],
   "source": [
    "basics = pd.read_csv(basics_url, sep ='\\t', low_memory =False)\n",
    "akas = pd.read_csv(akas_url, sep ='\\t', low_memory =False)\n",
    "rating = pd.read_csv(rating_url, sep ='\\t', low_memory =False)"
   ]
  },
  {
   "cell_type": "code",
   "execution_count": null,
   "id": "bc596a06",
   "metadata": {},
   "outputs": [],
   "source": [
    "basics.head()"
   ]
  },
  {
   "cell_type": "code",
   "execution_count": null,
   "id": "0240c29e",
   "metadata": {
    "scrolled": true
   },
   "outputs": [],
   "source": [
    "akas.head()"
   ]
  },
  {
   "cell_type": "code",
   "execution_count": null,
   "id": "52bb3820",
   "metadata": {},
   "outputs": [],
   "source": [
    "rating.head()"
   ]
  },
  {
   "cell_type": "markdown",
   "id": "f36138f9",
   "metadata": {},
   "source": [
    "# Data Cleaning"
   ]
  },
  {
   "cell_type": "code",
   "execution_count": null,
   "id": "d085b2a0",
   "metadata": {},
   "outputs": [],
   "source": [
    "#replace \"\\N \" with np.nan\n",
    "basics = basics.replace({'\\\\N':np.nan})"
   ]
  },
  {
   "cell_type": "code",
   "execution_count": null,
   "id": "390ddf23",
   "metadata": {},
   "outputs": [],
   "source": [
    "#Elimintae movies that are null for runtimeMinutes column\n",
    "basics = basics.dropna(subset = 'runtimeMinutes')"
   ]
  },
  {
   "cell_type": "code",
   "execution_count": null,
   "id": "1a4e8bcd",
   "metadata": {},
   "outputs": [],
   "source": [
    "#Elimintae movies that are null for genre\n",
    "basics = basics.dropna(subset = 'genres')"
   ]
  },
  {
   "cell_type": "code",
   "execution_count": null,
   "id": "273a0904",
   "metadata": {},
   "outputs": [],
   "source": [
    "#Keep only titleType == Movie\n",
    "basics = basics.loc[basics['titleType'] == 'movie']"
   ]
  },
  {
   "cell_type": "code",
   "execution_count": null,
   "id": "7736ac25",
   "metadata": {},
   "outputs": [],
   "source": [
    "#keep startyear 2000-2022\n",
    "#errors='coerce' to handle any invalid values\n",
    "basics['startYear'] = pd.to_numeric(basics['startYear'], errors='coerce')\n",
    "basics = basics.loc[(basics['startYear'] >= 2000) & (basics['startYear']<=2022)]"
   ]
  },
  {
   "cell_type": "code",
   "execution_count": null,
   "id": "82c12b73",
   "metadata": {},
   "outputs": [],
   "source": [
    "#Eliminate movies that include 'Documentary'\n",
    "is_documentaries = basics['genres'].str.contains('documentary',case = False)\n",
    "basics = basics[~is_documentaries]"
   ]
  },
  {
   "cell_type": "code",
   "execution_count": null,
   "id": "9e170ed7",
   "metadata": {},
   "outputs": [],
   "source": [
    "#replace \"\\N\" with np.nan in akas table\n",
    "akas = akas.replace({\"\\\\N\":np.nan})"
   ]
  },
  {
   "cell_type": "code",
   "execution_count": null,
   "id": "259b4300",
   "metadata": {},
   "outputs": [],
   "source": [
    "#replace \"\\N\" with np.nan in rating table\n",
    "rating = rating.replace({\"\\\\N\":np.nan})"
   ]
  },
  {
   "cell_type": "code",
   "execution_count": null,
   "id": "4d90e216",
   "metadata": {},
   "outputs": [],
   "source": [
    "#keep only U.S movie in akas\n",
    "akas = akas.loc[akas['region'] == 'US']"
   ]
  },
  {
   "cell_type": "code",
   "execution_count": null,
   "id": "7393dc4d",
   "metadata": {},
   "outputs": [],
   "source": [
    "#filter the basics table down to only include the US by using the filter akas\n",
    "keepers =basics['tconst'].isin(akas['titleId'])\n",
    "keepers"
   ]
  },
  {
   "cell_type": "code",
   "execution_count": null,
   "id": "d9b18f8b",
   "metadata": {},
   "outputs": [],
   "source": [
    "#filter the basics with keepers\n",
    "basics = basics[keepers]\n",
    "basics"
   ]
  },
  {
   "cell_type": "code",
   "execution_count": null,
   "id": "457fb923",
   "metadata": {},
   "outputs": [],
   "source": [
    "keepers = rating['tconst'].isin(akas['titleId'])\n",
    "keepers"
   ]
  },
  {
   "cell_type": "code",
   "execution_count": null,
   "id": "1050f813",
   "metadata": {},
   "outputs": [],
   "source": [
    "rating = rating[keepers]\n",
    "rating"
   ]
  },
  {
   "cell_type": "markdown",
   "id": "f2d2d6b4",
   "metadata": {},
   "source": [
    "# Saving to data folder"
   ]
  },
  {
   "cell_type": "code",
   "execution_count": null,
   "id": "c61b3ab8",
   "metadata": {},
   "outputs": [],
   "source": [
    "import os\n",
    "os.makedirs('Data/', exist_ok=True)\n",
    "os.listdir (\"Data/\")"
   ]
  },
  {
   "cell_type": "code",
   "execution_count": null,
   "id": "a18affd4",
   "metadata": {},
   "outputs": [],
   "source": [
    "basics.to_csv(\"Data/title_basics.csv.gz\",compression='gzip',index=False)"
   ]
  },
  {
   "cell_type": "code",
   "execution_count": null,
   "id": "f24680da",
   "metadata": {},
   "outputs": [],
   "source": [
    "akas.to_csv(\"Data/title_akas.csv.gz\",compression='gzip',index=False)"
   ]
  },
  {
   "cell_type": "code",
   "execution_count": null,
   "id": "638f0a28",
   "metadata": {},
   "outputs": [],
   "source": [
    "rating.to_csv(\"Data/title_rating.csv.gz\",compression='gzip',index=False)"
   ]
  },
  {
   "cell_type": "code",
   "execution_count": null,
   "id": "fdb13e7c",
   "metadata": {},
   "outputs": [],
   "source": [
    "akas.info()"
   ]
  },
  {
   "cell_type": "code",
   "execution_count": null,
   "id": "8dcf323b",
   "metadata": {},
   "outputs": [],
   "source": [
    "basics.info()"
   ]
  },
  {
   "cell_type": "code",
   "execution_count": null,
   "id": "3005893b",
   "metadata": {},
   "outputs": [],
   "source": [
    "rating.info()"
   ]
  }
 ],
 "metadata": {
  "kernelspec": {
   "display_name": "Python (dojo-env)",
   "language": "python",
   "name": "dojo-env"
  },
  "language_info": {
   "codemirror_mode": {
    "name": "ipython",
    "version": 3
   },
   "file_extension": ".py",
   "mimetype": "text/x-python",
   "name": "python",
   "nbconvert_exporter": "python",
   "pygments_lexer": "ipython3",
   "version": "3.9.15"
  },
  "toc": {
   "base_numbering": 1,
   "nav_menu": {},
   "number_sections": false,
   "sideBar": true,
   "skip_h1_title": false,
   "title_cell": "Table of Contents",
   "title_sidebar": "Contents",
   "toc_cell": false,
   "toc_position": {},
   "toc_section_display": true,
   "toc_window_display": false
  }
 },
 "nbformat": 4,
 "nbformat_minor": 5
}
